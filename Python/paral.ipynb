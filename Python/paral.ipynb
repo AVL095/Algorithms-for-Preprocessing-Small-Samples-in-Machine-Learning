{
 "cells": [
  {
   "cell_type": "code",
   "execution_count": 1,
   "id": "dc5ea22c",
   "metadata": {},
   "outputs": [],
   "source": [
    "import os\n",
    "\n",
    "def parw(label,lock):\n",
    "    msg = '%s: name:%s, pid:%s'\n",
    "    with lock:\n",
    "        print(msg % (label,\"test\",os.getpid()))"
   ]
  },
  {
   "cell_type": "code",
   "execution_count": 7,
   "id": "0d9062b4",
   "metadata": {},
   "outputs": [
    {
     "name": "stdout",
     "output_type": "stream",
     "text": [
      "function call: name:test, pid:11000\n",
      "Main process exit\n"
     ]
    }
   ],
   "source": [
    "from multiprocessing import Process, Lock\n",
    "\n",
    "\n",
    "if __name__ =='__main__':\n",
    "    lock = Lock()\n",
    "    parw('function call',lock)\n",
    "    p = Process(target=parw, args=('spawned child', lock))\n",
    "    p.start()\n",
    "    p.join()\n",
    "    for i in range(5):\n",
    "        Process(target=parw, args=(('run process %s' % i), lock)).start()\n",
    "    with lock:\n",
    "        print('Main process exit')"
   ]
  },
  {
   "cell_type": "code",
   "execution_count": null,
   "id": "573774b8",
   "metadata": {},
   "outputs": [],
   "source": []
  }
 ],
 "metadata": {
  "kernelspec": {
   "display_name": "Python 3 (ipykernel)",
   "language": "python",
   "name": "python3"
  },
  "language_info": {
   "codemirror_mode": {
    "name": "ipython",
    "version": 3
   },
   "file_extension": ".py",
   "mimetype": "text/x-python",
   "name": "python",
   "nbconvert_exporter": "python",
   "pygments_lexer": "ipython3",
   "version": "3.9.7"
  }
 },
 "nbformat": 4,
 "nbformat_minor": 5
}
